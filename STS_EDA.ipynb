{
  "nbformat": 4,
  "nbformat_minor": 0,
  "metadata": {
    "colab": {
      "name": "STS_EDA.ipynb",
      "private_outputs": true,
      "provenance": [],
      "authorship_tag": "ABX9TyMcfOAqWsbcWSYG5QHRnD4L",
      "include_colab_link": true
    },
    "kernelspec": {
      "name": "python3",
      "display_name": "Python 3"
    },
    "language_info": {
      "name": "python"
    }
  },
  "cells": [
    {
      "cell_type": "markdown",
      "metadata": {
        "id": "view-in-github",
        "colab_type": "text"
      },
      "source": [
        "<a href=\"https://colab.research.google.com/github/sw6820/STS/blob/master/STS_EDA.ipynb\" target=\"_parent\"><img src=\"https://colab.research.google.com/assets/colab-badge.svg\" alt=\"Open In Colab\"/></a>"
      ]
    },
    {
      "cell_type": "code",
      "execution_count": null,
      "metadata": {
        "id": "0RSbKJhgANgR"
      },
      "outputs": [],
      "source": [
        "from google.colab import drive\n",
        "drive.mount('/content/drive')"
      ]
    },
    {
      "cell_type": "code",
      "source": [
        "pwd"
      ],
      "metadata": {
        "id": "2IdHGbcgAV0G"
      },
      "execution_count": null,
      "outputs": []
    },
    {
      "cell_type": "code",
      "source": [
        "cd /content/drive/MyDrive/wanted/STS"
      ],
      "metadata": {
        "id": "2si9SBPeAlNo"
      },
      "execution_count": null,
      "outputs": []
    },
    {
      "cell_type": "code",
      "source": [
        "# !wget https://aistages-prod-server-public.s3.amazonaws.com/app/Competitions/000067/data/klue-sts-v1.1.tar.gz"
      ],
      "metadata": {
        "id": "ydgXZyxtAtE4"
      },
      "execution_count": null,
      "outputs": []
    },
    {
      "cell_type": "code",
      "source": [
        "import numpy as np\n",
        "import pandas as pd\n",
        "import tarfile"
      ],
      "metadata": {
        "id": "XijyEv-_FaoM"
      },
      "execution_count": null,
      "outputs": []
    },
    {
      "cell_type": "code",
      "source": [
        "tar = tarfile.open(\"klue-sts-v1.1.tar.gz\", \"r:gz\")\n",
        "df = pd.read_json(tar.extractfile(tar.getmembers()[-1]))\n",
        "df"
      ],
      "metadata": {
        "id": "jr-ME_bCAy4z"
      },
      "execution_count": null,
      "outputs": []
    },
    {
      "cell_type": "code",
      "source": [
        "df.info()"
      ],
      "metadata": {
        "id": "QZsBJn6UFlIN"
      },
      "execution_count": null,
      "outputs": []
    },
    {
      "cell_type": "code",
      "source": [
        "df.describe()"
      ],
      "metadata": {
        "id": "lRFct_g5FmNc"
      },
      "execution_count": null,
      "outputs": []
    },
    {
      "cell_type": "markdown",
      "source": [
        "| Name | \tDescription |\n",
        "|----|-----------|\n",
        "| key\t| value| \n",
        "| guid | unique identifier | \n",
        "| source\t| document source of the sentences; 'source corpus-pairing method' | \n",
        "| sentence1\t| first sentence input | \n",
        "| sentence2\t| second sentence input |\n",
        "| labels\t| three types of labels for training and evaluation |\n",
        "| - round1\t| real number label rounded up to the first decimal digit |\n",
        "| - real_label\t| original real number label |\n",
        "| - binary_label\t| binarized label with the basis of 3 |\n",
        "| annotations\t| metadata for annotation |\n",
        "| - agreement\t| the distribution of annotations from 0 to 5 |\n",
        "| - annotators\t| annotator ids of the sentence pair |\n",
        "| - annotations\t| annotation per annotator id |\n"
      ],
      "metadata": {
        "id": "jBo66mVkdEnR"
      }
    },
    {
      "cell_type": "code",
      "source": [
        "df['annotations'][0]"
      ],
      "metadata": {
        "id": "QjHld1EbPaNl"
      },
      "execution_count": null,
      "outputs": []
    },
    {
      "cell_type": "code",
      "source": [
        "df['labels'][0]"
      ],
      "metadata": {
        "id": "6fKqmfV4TTW9"
      },
      "execution_count": null,
      "outputs": []
    },
    {
      "cell_type": "code",
      "source": [
        "df.duplicated(['sentence1', 'sentence2']).sum()"
      ],
      "metadata": {
        "id": "rfPaNAM-TdJv"
      },
      "execution_count": null,
      "outputs": []
    }
  ]
}