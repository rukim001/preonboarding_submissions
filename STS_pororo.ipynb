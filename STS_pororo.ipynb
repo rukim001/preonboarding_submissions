{
  "nbformat": 4,
  "nbformat_minor": 0,
  "metadata": {
    "colab": {
      "name": "STS_pororo.ipynb",
      "private_outputs": true,
      "provenance": [],
      "collapsed_sections": [],
      "authorship_tag": "ABX9TyNoudj0bcPQ1q/7DRHJ1EX7",
      "include_colab_link": true
    },
    "kernelspec": {
      "name": "python3",
      "display_name": "Python 3"
    },
    "language_info": {
      "name": "python"
    }
  },
  "cells": [
    {
      "cell_type": "markdown",
      "metadata": {
        "id": "view-in-github",
        "colab_type": "text"
      },
      "source": [
        "<a href=\"https://colab.research.google.com/github/sw6820/STS/blob/master/STS_pororo.ipynb\" target=\"_parent\"><img src=\"https://colab.research.google.com/assets/colab-badge.svg\" alt=\"Open In Colab\"/></a>"
      ]
    },
    {
      "cell_type": "code",
      "execution_count": null,
      "metadata": {
        "id": "0RSbKJhgANgR"
      },
      "outputs": [],
      "source": [
        "from google.colab import drive\n",
        "drive.mount('/content/drive')"
      ]
    },
    {
      "cell_type": "code",
      "source": [
        "pwd"
      ],
      "metadata": {
        "id": "2IdHGbcgAV0G"
      },
      "execution_count": null,
      "outputs": []
    },
    {
      "cell_type": "code",
      "source": [
        "cd /content/drive/MyDrive/wanted/STS/data"
      ],
      "metadata": {
        "id": "2si9SBPeAlNo"
      },
      "execution_count": null,
      "outputs": []
    },
    {
      "cell_type": "code",
      "source": [
        "# !wget https://aistages-prod-server-public.s3.amazonaws.com/app/Competitions/000067/data/klue-sts-v1.1.tar.gz"
      ],
      "metadata": {
        "id": "ydgXZyxtAtE4"
      },
      "execution_count": null,
      "outputs": []
    },
    {
      "cell_type": "code",
      "source": [
        "!pip install pororo"
      ],
      "metadata": {
        "id": "QmcgIjocXKCB"
      },
      "execution_count": null,
      "outputs": []
    },
    {
      "cell_type": "code",
      "source": [
        "from pororo import Pororo"
      ],
      "metadata": {
        "id": "L9ADv43eYu-q"
      },
      "execution_count": null,
      "outputs": []
    },
    {
      "cell_type": "code",
      "source": [
        "from tqdm import tqdm"
      ],
      "metadata": {
        "id": "7FJO2MyqaOn3"
      },
      "execution_count": null,
      "outputs": []
    },
    {
      "cell_type": "code",
      "source": [
        "import numpy as np\n",
        "import pandas as pd\n",
        "import tarfile"
      ],
      "metadata": {
        "id": "XijyEv-_FaoM"
      },
      "execution_count": null,
      "outputs": []
    },
    {
      "cell_type": "code",
      "source": [
        "tar = tarfile.open(\"klue-sts-v1.1.tar.gz\", \"r:gz\")\n",
        "df = pd.read_json(tar.extractfile(tar.getmembers()[-1]))\n",
        "df"
      ],
      "metadata": {
        "id": "jr-ME_bCAy4z"
      },
      "execution_count": null,
      "outputs": []
    },
    {
      "cell_type": "code",
      "source": [
        "df.info()"
      ],
      "metadata": {
        "id": "QZsBJn6UFlIN"
      },
      "execution_count": null,
      "outputs": []
    },
    {
      "cell_type": "code",
      "source": [
        "df.describe()"
      ],
      "metadata": {
        "id": "lRFct_g5FmNc"
      },
      "execution_count": null,
      "outputs": []
    },
    {
      "cell_type": "code",
      "source": [
        "df['annotations'][0]"
      ],
      "metadata": {
        "id": "QjHld1EbPaNl"
      },
      "execution_count": null,
      "outputs": []
    },
    {
      "cell_type": "code",
      "source": [
        "df['labels'][0]"
      ],
      "metadata": {
        "id": "6fKqmfV4TTW9"
      },
      "execution_count": null,
      "outputs": []
    },
    {
      "cell_type": "code",
      "source": [
        "df.duplicated(['sentence1', 'sentence2']).sum()"
      ],
      "metadata": {
        "id": "rfPaNAM-TdJv"
      },
      "execution_count": null,
      "outputs": []
    },
    {
      "cell_type": "code",
      "source": [
        "df_sentence = df.loc[:,['sentence1','sentence2']]\n",
        "df_sentence"
      ],
      "metadata": {
        "id": "RUaN3w8FXHmy"
      },
      "execution_count": null,
      "outputs": []
    },
    {
      "cell_type": "code",
      "source": [
        "labels = pd.DataFrame"
      ],
      "metadata": {
        "id": "a4CXzE-1fxtD"
      },
      "execution_count": null,
      "outputs": []
    },
    {
      "cell_type": "code",
      "source": [
        "sts = Pororo(task=\"similarity\", lang=\"ko\")"
      ],
      "metadata": {
        "id": "cU_p54kNYnlJ"
      },
      "execution_count": null,
      "outputs": []
    },
    {
      "cell_type": "code",
      "source": [
        ""
      ],
      "metadata": {
        "id": "ykjC2SdHh3yN"
      },
      "execution_count": null,
      "outputs": []
    },
    {
      "cell_type": "code",
      "source": [
        "def sts_pororo(df):\n",
        "  similarity=[]\n",
        "  for idx, row in tqdm(df.iterrows(), total = len(df)):\n",
        "    similarity_row = sts(row['sentence1'], row['sentence2'])\n",
        "    similarity.append(similarity_row)\n",
        "  return similarity"
      ],
      "metadata": {
        "id": "7Zz2gWIbZP-J"
      },
      "execution_count": null,
      "outputs": []
    },
    {
      "cell_type": "code",
      "source": [
        "pororo_label = sts_pororo(df)\n",
        "labels['pororo-label'] = pororo_label"
      ],
      "metadata": {
        "id": "_ZMOyNhhcR0D"
      },
      "execution_count": null,
      "outputs": []
    },
    {
      "cell_type": "code",
      "source": [
        "df['labels'][0].items()\n",
        "for key, val in df['labels'][0].items():\n",
        "  labels[key] = df['labels'].map(lambda x: x[key])\n"
      ],
      "metadata": {
        "id": "HfjyN63QcSHm"
      },
      "execution_count": null,
      "outputs": []
    },
    {
      "cell_type": "markdown",
      "source": [
        "| Name | \tDescription |\n",
        "|----|-----------|\n",
        "| labels\t| three types of labels for training and evaluation |\n",
        "| - pororo-label | labeled by pororo |\n",
        "| - round1\t| real number label rounded up to the first decimal digit |\n",
        "| - real_label\t| original real number label |\n",
        "| - binary_label\t| binarized label with the basis of 3 |"
      ],
      "metadata": {
        "id": "D9hzYyFxjvaS"
      }
    },
    {
      "cell_type": "code",
      "source": [
        "labels"
      ],
      "metadata": {
        "id": "hDClHrEFcSRY"
      },
      "execution_count": null,
      "outputs": []
    },
    {
      "cell_type": "code",
      "source": [
        ""
      ],
      "metadata": {
        "id": "i6eRz0IpcSaA"
      },
      "execution_count": null,
      "outputs": []
    }
  ]
}