{
  "nbformat": 4,
  "nbformat_minor": 0,
  "metadata": {
    "colab": {
      "name": "STS_backtranslation.ipynb",
      "private_outputs": true,
      "provenance": [],
      "authorship_tag": "ABX9TyO6F+SQWcfjNsXvsOC1vt9b",
      "include_colab_link": true
    },
    "kernelspec": {
      "name": "python3",
      "display_name": "Python 3"
    },
    "language_info": {
      "name": "python"
    }
  },
  "cells": [
    {
      "cell_type": "markdown",
      "metadata": {
        "id": "view-in-github",
        "colab_type": "text"
      },
      "source": [
        "<a href=\"https://colab.research.google.com/github/sw6820/STS/blob/master/STS_backtranslation.ipynb\" target=\"_parent\"><img src=\"https://colab.research.google.com/assets/colab-badge.svg\" alt=\"Open In Colab\"/></a>"
      ]
    },
    {
      "cell_type": "code",
      "execution_count": null,
      "metadata": {
        "id": "0RSbKJhgANgR"
      },
      "outputs": [],
      "source": [
        "from google.colab import drive\n",
        "drive.mount('/content/drive')"
      ]
    },
    {
      "cell_type": "code",
      "source": [
        "pwd"
      ],
      "metadata": {
        "id": "2IdHGbcgAV0G"
      },
      "execution_count": null,
      "outputs": []
    },
    {
      "cell_type": "code",
      "source": [
        "cd /content/drive/MyDrive/wanted/STS"
      ],
      "metadata": {
        "id": "2si9SBPeAlNo"
      },
      "execution_count": null,
      "outputs": []
    },
    {
      "cell_type": "code",
      "source": [
        "mkdir data"
      ],
      "metadata": {
        "id": "gn33bLFRmDOm"
      },
      "execution_count": null,
      "outputs": []
    },
    {
      "cell_type": "code",
      "source": [
        "cd ./data"
      ],
      "metadata": {
        "id": "hcwqtx-QmdLW"
      },
      "execution_count": null,
      "outputs": []
    },
    {
      "cell_type": "code",
      "source": [
        "# !wget https://aistages-prod-server-public.s3.amazonaws.com/app/Competitions/000067/data/klue-sts-v1.1.tar.gz"
      ],
      "metadata": {
        "id": "ydgXZyxtAtE4"
      },
      "execution_count": null,
      "outputs": []
    },
    {
      "cell_type": "code",
      "source": [
        "!pip install transformers\n",
        "!pip install selenium\n",
        "!apt-get update\n",
        "!apt install chromium-chromedriver\n",
        "!pip install pororo\n",
        "!pip install folium==0.2.1 urllib3~=1.26"
      ],
      "metadata": {
        "id": "3d-wWkb7moME"
      },
      "execution_count": null,
      "outputs": []
    },
    {
      "cell_type": "code",
      "source": [
        "gpu_info = !nvidia-smi\n",
        "gpu_info = '\\n'.join(gpu_info)\n",
        "if gpu_info.find('failed') >= 0:\n",
        "  print('Not connected to a GPU')\n",
        "else:\n",
        "  print(gpu_info)"
      ],
      "metadata": {
        "id": "iekEfOlXmtnn"
      },
      "execution_count": null,
      "outputs": []
    },
    {
      "cell_type": "code",
      "source": [
        "from psutil import virtual_memory\n",
        "ram_gb = virtual_memory().total / 1e9\n",
        "print('Your runtime has {:.1f} gigabytes of available RAM\\n'.format(ram_gb))\n",
        "\n",
        "if ram_gb < 20:\n",
        "  print('Not using a high-RAM runtime')\n",
        "else:\n",
        "  print('You are using a high-RAM runtime!')"
      ],
      "metadata": {
        "id": "J1y4dAbZmwx-"
      },
      "execution_count": null,
      "outputs": []
    },
    {
      "cell_type": "code",
      "source": [
        "import numpy as np\n",
        "import pandas as pd\n",
        "import tarfile\n",
        "\n",
        "import sys\n",
        "import numpy as np\n",
        "import pandas as pd\n",
        "import random\n",
        "from tqdm.notebook import tqdm\n",
        "import os\n",
        "import re\n",
        "import time\n",
        "from collections import Counter\n",
        "\n",
        "import transformers\n",
        "from transformers import BertTokenizer,AdamWeightDecay,TFRobertaModel,TFBertModel\n",
        "\n",
        "import sklearn\n",
        "from sklearn.metrics import confusion_matrix,accuracy_score\n",
        "from sklearn.model_selection import StratifiedKFold\n",
        "\n",
        "import pororo\n",
        "from pororo import Pororo\n",
        "\n",
        "import torch \n",
        "\n",
        "import selenium\n",
        "from selenium import webdriver\n",
        "from selenium.webdriver.common.by import By\n",
        "from selenium.webdriver.support.ui import WebDriverWait\n",
        "from selenium.webdriver.support import expected_conditions as EC\n",
        "\n",
        "import pickle\n",
        "from tqdm.notebook import tqdm\n",
        "from pororo import Pororo\n",
        "# from datasets import load_from_disk\n",
        "from torch.utils.data import DataLoader, TensorDataset"
      ],
      "metadata": {
        "id": "XijyEv-_FaoM"
      },
      "execution_count": null,
      "outputs": []
    },
    {
      "cell_type": "code",
      "source": [
        "# print(tf.__version__)\n",
        "print(np.__version__)\n",
        "print(pd.__version__)\n",
        "print(transformers.__version__)\n",
        "# print(keras.__version__)\n",
        "print(sklearn.__version__)\n",
        "print(pororo.__version__)\n",
        "print(selenium.__version__)"
      ],
      "metadata": {
        "id": "8pwlivxBm4HI"
      },
      "execution_count": null,
      "outputs": []
    },
    {
      "cell_type": "code",
      "source": [
        "tar = tarfile.open(\"klue-sts-v1.1.tar.gz\", \"r:gz\")\n",
        "df = pd.read_json(tar.extractfile(tar.getmembers()[-1]))\n",
        "df"
      ],
      "metadata": {
        "id": "jr-ME_bCAy4z"
      },
      "execution_count": null,
      "outputs": []
    },
    {
      "cell_type": "code",
      "source": [
        "df.info()"
      ],
      "metadata": {
        "id": "QZsBJn6UFlIN"
      },
      "execution_count": null,
      "outputs": []
    },
    {
      "cell_type": "code",
      "source": [
        "df.describe()"
      ],
      "metadata": {
        "id": "lRFct_g5FmNc"
      },
      "execution_count": null,
      "outputs": []
    },
    {
      "cell_type": "code",
      "source": [
        "# df['annotations'][0]"
      ],
      "metadata": {
        "id": "QjHld1EbPaNl"
      },
      "execution_count": null,
      "outputs": []
    },
    {
      "cell_type": "code",
      "source": [
        "# df['labels'][0]"
      ],
      "metadata": {
        "id": "6fKqmfV4TTW9"
      },
      "execution_count": null,
      "outputs": []
    },
    {
      "cell_type": "code",
      "source": [
        "df.duplicated(['sentence1', 'sentence2']).sum()"
      ],
      "metadata": {
        "id": "rfPaNAM-TdJv"
      },
      "execution_count": null,
      "outputs": []
    },
    {
      "cell_type": "markdown",
      "source": [
        "### Pororo BackTranslation\n",
        "\n",
        "[github](https://github.com/kakaobrain/pororo)\n",
        "\n",
        "[docs](https://kakaobrain.github.io/pororo/)"
      ],
      "metadata": {
        "id": "HcOBU3i6nDvC"
      }
    },
    {
      "cell_type": "code",
      "source": [
        "mt = Pororo(task=\"translation\", lang=\"multi\")"
      ],
      "metadata": {
        "id": "HeBkH-smnCOA"
      },
      "execution_count": null,
      "outputs": []
    },
    {
      "cell_type": "markdown",
      "source": [
        "we can choose 2 types of translation by [BLEU score](https://kakaobrain.github.io/pororo/seq2seq/mt.html)\n",
        "\n",
        "ko, ja are above average BLUE scores\n"
      ],
      "metadata": {
        "id": "G7hRPzTUnMyx"
      }
    },
    {
      "cell_type": "code",
      "source": [
        "def back_translation(s, lang) :\n",
        "    transed_lang = mt(s, src = 'ko', tgt = lang) # ko to other lang\n",
        "    ko = mt(transed_lang, src = lang, tgt = 'ko') # another to ko\n",
        "    return ko"
      ],
      "metadata": {
        "id": "OneziCZLnCwX"
      },
      "execution_count": null,
      "outputs": []
    },
    {
      "cell_type": "code",
      "source": [
        "def translated(lang):\n",
        "  sentence1, sentence2 = [],[]  \n",
        "  for idx, row in tqdm(df.iterrows()):\n",
        "    df['sentence1'].append(back_translation(row['sentence1'], lang))\n",
        "    df['sentence2'].append(back_translation(row['sentence2'], lang))\n",
        "  return sentence1, sentence2"
      ],
      "metadata": {
        "id": "gsyAFR3wn93Q"
      },
      "execution_count": null,
      "outputs": []
    },
    {
      "cell_type": "code",
      "source": [
        "en_sentence1_trans, en_sentence2_trans = translated('en')\n",
        "ja_sentence1_trans, ja_sentence2_trans = translated('ja')"
      ],
      "metadata": {
        "id": "VyWWh3HjoWXA"
      },
      "execution_count": null,
      "outputs": []
    },
    {
      "cell_type": "code",
      "source": [
        "en_sentence1 = pd.DataFrame(en_sentence1_trans)\n",
        "en_sentence2 = pd.DataFrame(en_sentence2_trans)\n",
        "\n",
        "ja_sentence1 = pd.DataFrame(ja_sentence1_trans)\n",
        "ja_sentence2 = pd.DataFrame(ja_sentence2_trans)\n",
        "\n",
        "en_sentence1_trans.to_csv('en_sentence1.csv')\n",
        "en_sentence2_trans.to_csv('en_sentence2.csv')\n",
        "\n",
        "ja_sentence1_trans.to_csv('ja_sentence1.csv')\n",
        "ja_sentence2_trans.to_csv('ja_sentence2.csv')"
      ],
      "metadata": {
        "id": "f6ujlboJognY"
      },
      "execution_count": null,
      "outputs": []
    },
    {
      "cell_type": "markdown",
      "source": [
        "### 위에 방식이 터지면 아래와 같이 잘라서 시도해보세요"
      ],
      "metadata": {
        "id": "sQOX1FIEqoVk"
      }
    },
    {
      "cell_type": "code",
      "source": [
        "# half = len(df)//2\n",
        "# for i in range(2):\n",
        "#   sentence1, sentence2 = [],[]  \n",
        "\n",
        "#   for idx, row in tqdm(df[half*i : half*(i+1)].iterrows()):\n",
        "#     sentence1.append(back_translation(row['sentence1'], 'en'))\n",
        "#     sentence2.append(back_translation(row['sentence2'], 'en'))\n",
        "\n",
        "#   sentence1 = pd.DataFrame(sentence1)\n",
        "#   sentence2 = pd.DataFrame(sentence2) \n",
        "\n",
        "#   en_sentence1_trans.to_csv(f'en_sentence1_{i+1}.csv')\n",
        "#   en_sentence2_trans.to_csv(f'en_sentence2_{i+1}.csv')\n"
      ],
      "metadata": {
        "id": "1C0IC-FEoz2K"
      },
      "execution_count": null,
      "outputs": []
    }
  ]
}